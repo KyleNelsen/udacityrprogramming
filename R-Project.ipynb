{
 "cells": [
  {
   "cell_type": "markdown",
   "id": "eaba4e77-9dca-44c7-844f-902ae03c5bb4",
   "metadata": {},
   "source": [
    "### Explore Bike Share Data\n",
    "\n",
    "For this project, your goal is to ask and answer three questions about the available bikeshare data from Washington, Chicago, and New York.  This notebook can be submitted directly through the workspace when you are confident in your results.\n",
    "\n",
    "You will be graded against the project [Rubric](https://review.udacity.com/#!/rubrics/2508/view) by a mentor after you have submitted.  To get you started, you can use the template below, but feel free to be creative in your solutions!"
   ]
  },
  {
   "cell_type": "code",
   "execution_count": 2,
   "id": "75602ffd-fa08-45b2-a579-8c374d77654e",
   "metadata": {},
   "outputs": [
    {
     "name": "stderr",
     "output_type": "stream",
     "text": [
      "Registered S3 methods overwritten by 'ggplot2':\n",
      "  method         from \n",
      "  [.quosures     rlang\n",
      "  c.quosures     rlang\n",
      "  print.quosures rlang\n"
     ]
    }
   ],
   "source": [
    "library(ggplot2)\n",
    "library(scales)"
   ]
  },
  {
   "cell_type": "code",
   "execution_count": 3,
   "id": "f6931b36-50e8-48df-8ed0-418c53cc2aad",
   "metadata": {},
   "outputs": [],
   "source": [
    "ny <- read.csv('new-york-city.csv')\n",
    "wash <- read.csv('washington.csv')\n",
    "chi <- read.csv('chicago.csv')"
   ]
  },
  {
   "cell_type": "code",
   "execution_count": 4,
   "id": "1ba77613-42d7-45f5-b88c-946bf0012abb",
   "metadata": {},
   "outputs": [
    {
     "data": {
      "text/html": [
       "<table>\n",
       "<thead><tr><th scope=col>X</th><th scope=col>Start.Time</th><th scope=col>End.Time</th><th scope=col>Trip.Duration</th><th scope=col>Start.Station</th><th scope=col>End.Station</th><th scope=col>User.Type</th><th scope=col>Gender</th><th scope=col>Birth.Year</th></tr></thead>\n",
       "<tbody>\n",
       "\t<tr><td>5688089                                       </td><td>2017-06-11 14:55:05                           </td><td>2017-06-11 15:08:21                           </td><td> 795                                          </td><td>Suffolk St &amp; Stanton St                   </td><td>W Broadway &amp; Spring St                    </td><td>Subscriber                                    </td><td><span style=white-space:pre-wrap>Male  </span></td><td>1998                                          </td></tr>\n",
       "\t<tr><td>4096714                                                           </td><td>2017-05-11 15:30:11                                               </td><td>2017-05-11 15:41:43                                               </td><td> 692                                                              </td><td>Lexington Ave &amp; E 63 St                                       </td><td><span style=white-space:pre-wrap>1 Ave &amp; E 78 St       </span></td><td>Subscriber                                                        </td><td><span style=white-space:pre-wrap>Male  </span>                    </td><td>1981                                                              </td></tr>\n",
       "\t<tr><td>2173887                                                            </td><td>2017-03-29 13:26:26                                                </td><td>2017-03-29 13:48:31                                                </td><td>1325                                                               </td><td><span style=white-space:pre-wrap>1 Pl &amp; Clinton St      </span></td><td><span style=white-space:pre-wrap>Henry St &amp; Degraw St  </span> </td><td>Subscriber                                                         </td><td><span style=white-space:pre-wrap>Male  </span>                     </td><td>1987                                                               </td></tr>\n",
       "\t<tr><td>3945638                                                            </td><td>2017-05-08 19:47:18                                                </td><td>2017-05-08 19:59:01                                                </td><td> 703                                                               </td><td><span style=white-space:pre-wrap>Barrow St &amp; Hudson St  </span></td><td><span style=white-space:pre-wrap>W 20 St &amp; 8 Ave       </span> </td><td>Subscriber                                                         </td><td>Female                                                             </td><td>1986                                                               </td></tr>\n",
       "\t<tr><td>6208972                                                            </td><td>2017-06-21 07:49:16                                                </td><td>2017-06-21 07:54:46                                                </td><td> 329                                                               </td><td><span style=white-space:pre-wrap>1 Ave &amp; E 44 St        </span></td><td><span style=white-space:pre-wrap>E 53 St &amp; 3 Ave       </span> </td><td>Subscriber                                                         </td><td><span style=white-space:pre-wrap>Male  </span>                     </td><td>1992                                                               </td></tr>\n",
       "\t<tr><td>1285652                                                            </td><td>2017-02-22 18:55:24                                                </td><td>2017-02-22 19:12:03                                                </td><td> 998                                                               </td><td><span style=white-space:pre-wrap>State St &amp; Smith St    </span></td><td><span style=white-space:pre-wrap>Bond St &amp; Fulton St   </span> </td><td>Subscriber                                                         </td><td><span style=white-space:pre-wrap>Male  </span>                     </td><td>1986                                                               </td></tr>\n",
       "</tbody>\n",
       "</table>\n"
      ],
      "text/latex": [
       "\\begin{tabular}{r|lllllllll}\n",
       " X & Start.Time & End.Time & Trip.Duration & Start.Station & End.Station & User.Type & Gender & Birth.Year\\\\\n",
       "\\hline\n",
       "\t 5688089                   & 2017-06-11 14:55:05       & 2017-06-11 15:08:21       &  795                      & Suffolk St \\& Stanton St & W Broadway \\& Spring St  & Subscriber                & Male                      & 1998                     \\\\\n",
       "\t 4096714                   & 2017-05-11 15:30:11       & 2017-05-11 15:41:43       &  692                      & Lexington Ave \\& E 63 St & 1 Ave \\& E 78 St         & Subscriber                & Male                      & 1981                     \\\\\n",
       "\t 2173887                   & 2017-03-29 13:26:26       & 2017-03-29 13:48:31       & 1325                      & 1 Pl \\& Clinton St       & Henry St \\& Degraw St    & Subscriber                & Male                      & 1987                     \\\\\n",
       "\t 3945638                   & 2017-05-08 19:47:18       & 2017-05-08 19:59:01       &  703                      & Barrow St \\& Hudson St   & W 20 St \\& 8 Ave         & Subscriber                & Female                    & 1986                     \\\\\n",
       "\t 6208972                   & 2017-06-21 07:49:16       & 2017-06-21 07:54:46       &  329                      & 1 Ave \\& E 44 St         & E 53 St \\& 3 Ave         & Subscriber                & Male                      & 1992                     \\\\\n",
       "\t 1285652                   & 2017-02-22 18:55:24       & 2017-02-22 19:12:03       &  998                      & State St \\& Smith St     & Bond St \\& Fulton St     & Subscriber                & Male                      & 1986                     \\\\\n",
       "\\end{tabular}\n"
      ],
      "text/markdown": [
       "\n",
       "| X | Start.Time | End.Time | Trip.Duration | Start.Station | End.Station | User.Type | Gender | Birth.Year |\n",
       "|---|---|---|---|---|---|---|---|---|\n",
       "| 5688089                 | 2017-06-11 14:55:05     | 2017-06-11 15:08:21     |  795                    | Suffolk St & Stanton St | W Broadway & Spring St  | Subscriber              | Male                    | 1998                    |\n",
       "| 4096714                 | 2017-05-11 15:30:11     | 2017-05-11 15:41:43     |  692                    | Lexington Ave & E 63 St | 1 Ave & E 78 St         | Subscriber              | Male                    | 1981                    |\n",
       "| 2173887                 | 2017-03-29 13:26:26     | 2017-03-29 13:48:31     | 1325                    | 1 Pl & Clinton St       | Henry St & Degraw St    | Subscriber              | Male                    | 1987                    |\n",
       "| 3945638                 | 2017-05-08 19:47:18     | 2017-05-08 19:59:01     |  703                    | Barrow St & Hudson St   | W 20 St & 8 Ave         | Subscriber              | Female                  | 1986                    |\n",
       "| 6208972                 | 2017-06-21 07:49:16     | 2017-06-21 07:54:46     |  329                    | 1 Ave & E 44 St         | E 53 St & 3 Ave         | Subscriber              | Male                    | 1992                    |\n",
       "| 1285652                 | 2017-02-22 18:55:24     | 2017-02-22 19:12:03     |  998                    | State St & Smith St     | Bond St & Fulton St     | Subscriber              | Male                    | 1986                    |\n",
       "\n"
      ],
      "text/plain": [
       "  X       Start.Time          End.Time            Trip.Duration\n",
       "1 5688089 2017-06-11 14:55:05 2017-06-11 15:08:21  795         \n",
       "2 4096714 2017-05-11 15:30:11 2017-05-11 15:41:43  692         \n",
       "3 2173887 2017-03-29 13:26:26 2017-03-29 13:48:31 1325         \n",
       "4 3945638 2017-05-08 19:47:18 2017-05-08 19:59:01  703         \n",
       "5 6208972 2017-06-21 07:49:16 2017-06-21 07:54:46  329         \n",
       "6 1285652 2017-02-22 18:55:24 2017-02-22 19:12:03  998         \n",
       "  Start.Station           End.Station            User.Type  Gender Birth.Year\n",
       "1 Suffolk St & Stanton St W Broadway & Spring St Subscriber Male   1998      \n",
       "2 Lexington Ave & E 63 St 1 Ave & E 78 St        Subscriber Male   1981      \n",
       "3 1 Pl & Clinton St       Henry St & Degraw St   Subscriber Male   1987      \n",
       "4 Barrow St & Hudson St   W 20 St & 8 Ave        Subscriber Female 1986      \n",
       "5 1 Ave & E 44 St         E 53 St & 3 Ave        Subscriber Male   1992      \n",
       "6 State St & Smith St     Bond St & Fulton St    Subscriber Male   1986      "
      ]
     },
     "metadata": {},
     "output_type": "display_data"
    }
   ],
   "source": [
    "head(ny)"
   ]
  },
  {
   "cell_type": "code",
   "execution_count": 5,
   "id": "fccd583f-4f46-4847-a82c-8e79eb335325",
   "metadata": {},
   "outputs": [
    {
     "data": {
      "text/html": [
       "<table>\n",
       "<thead><tr><th scope=col>X</th><th scope=col>Start.Time</th><th scope=col>End.Time</th><th scope=col>Trip.Duration</th><th scope=col>Start.Station</th><th scope=col>End.Station</th><th scope=col>User.Type</th></tr></thead>\n",
       "<tbody>\n",
       "\t<tr><td>1621326                                                                                        </td><td>2017-06-21 08:36:34                                                                            </td><td>2017-06-21 08:44:43                                                                            </td><td> 489.066                                                                                       </td><td><span style=white-space:pre-wrap>14th &amp; Belmont St NW                       </span>        </td><td><span style=white-space:pre-wrap>15th &amp; K St NW                                     </span></td><td>Subscriber                                                                                     </td></tr>\n",
       "\t<tr><td> 482740                                                                                        </td><td>2017-03-11 10:40:00                                                                            </td><td>2017-03-11 10:46:00                                                                            </td><td> 402.549                                                                                       </td><td><span style=white-space:pre-wrap>Yuma St &amp; Tenley Circle NW                 </span>        </td><td><span style=white-space:pre-wrap>Connecticut Ave &amp; Yuma St NW                       </span></td><td>Subscriber                                                                                     </td></tr>\n",
       "\t<tr><td>1330037                                                                                        </td><td>2017-05-30 01:02:59                                                                            </td><td>2017-05-30 01:13:37                                                                            </td><td> 637.251                                                                                       </td><td><span style=white-space:pre-wrap>17th St &amp; Massachusetts Ave NW             </span>        </td><td><span style=white-space:pre-wrap>5th &amp; K St NW                                      </span></td><td>Subscriber                                                                                     </td></tr>\n",
       "\t<tr><td> 665458                                                                                        </td><td>2017-04-02 07:48:35                                                                            </td><td>2017-04-02 08:19:03                                                                            </td><td>1827.341                                                                                       </td><td><span style=white-space:pre-wrap>Constitution Ave &amp; 2nd St NW/DOL           </span>        </td><td><span style=white-space:pre-wrap>M St &amp; Pennsylvania Ave NW                         </span></td><td><span style=white-space:pre-wrap>Customer  </span>                                             </td></tr>\n",
       "\t<tr><td>1481135                                                                                        </td><td>2017-06-10 08:36:28                                                                            </td><td>2017-06-10 09:02:17                                                                            </td><td>1549.427                                                                                       </td><td>Henry Bacon Dr &amp; Lincoln Memorial Circle NW                                                </td><td><span style=white-space:pre-wrap>Maine Ave &amp; 7th St SW                              </span></td><td>Subscriber                                                                                     </td></tr>\n",
       "\t<tr><td>1148202                                                                                </td><td>2017-05-14 07:18:18                                                                    </td><td>2017-05-14 07:24:56                                                                    </td><td> 398.000                                                                               </td><td><span style=white-space:pre-wrap>1st &amp; K St SE                              </span></td><td>Eastern Market Metro / Pennsylvania Ave &amp; 7th St SE                                </td><td>Subscriber                                                                             </td></tr>\n",
       "</tbody>\n",
       "</table>\n"
      ],
      "text/latex": [
       "\\begin{tabular}{r|lllllll}\n",
       " X & Start.Time & End.Time & Trip.Duration & Start.Station & End.Station & User.Type\\\\\n",
       "\\hline\n",
       "\t 1621326                                               & 2017-06-21 08:36:34                                   & 2017-06-21 08:44:43                                   &  489.066                                              & 14th \\& Belmont St NW                                & 15th \\& K St NW                                      & Subscriber                                           \\\\\n",
       "\t  482740                                               & 2017-03-11 10:40:00                                   & 2017-03-11 10:46:00                                   &  402.549                                              & Yuma St \\& Tenley Circle NW                          & Connecticut Ave \\& Yuma St NW                        & Subscriber                                           \\\\\n",
       "\t 1330037                                               & 2017-05-30 01:02:59                                   & 2017-05-30 01:13:37                                   &  637.251                                              & 17th St \\& Massachusetts Ave NW                      & 5th \\& K St NW                                       & Subscriber                                           \\\\\n",
       "\t  665458                                               & 2017-04-02 07:48:35                                   & 2017-04-02 08:19:03                                   & 1827.341                                              & Constitution Ave \\& 2nd St NW/DOL                    & M St \\& Pennsylvania Ave NW                          & Customer                                             \\\\\n",
       "\t 1481135                                               & 2017-06-10 08:36:28                                   & 2017-06-10 09:02:17                                   & 1549.427                                              & Henry Bacon Dr \\& Lincoln Memorial Circle NW         & Maine Ave \\& 7th St SW                               & Subscriber                                           \\\\\n",
       "\t 1148202                                               & 2017-05-14 07:18:18                                   & 2017-05-14 07:24:56                                   &  398.000                                              & 1st \\& K St SE                                       & Eastern Market Metro / Pennsylvania Ave \\& 7th St SE & Subscriber                                           \\\\\n",
       "\\end{tabular}\n"
      ],
      "text/markdown": [
       "\n",
       "| X | Start.Time | End.Time | Trip.Duration | Start.Station | End.Station | User.Type |\n",
       "|---|---|---|---|---|---|---|\n",
       "| 1621326                                             | 2017-06-21 08:36:34                                 | 2017-06-21 08:44:43                                 |  489.066                                            | 14th & Belmont St NW                                | 15th & K St NW                                      | Subscriber                                          |\n",
       "|  482740                                             | 2017-03-11 10:40:00                                 | 2017-03-11 10:46:00                                 |  402.549                                            | Yuma St & Tenley Circle NW                          | Connecticut Ave & Yuma St NW                        | Subscriber                                          |\n",
       "| 1330037                                             | 2017-05-30 01:02:59                                 | 2017-05-30 01:13:37                                 |  637.251                                            | 17th St & Massachusetts Ave NW                      | 5th & K St NW                                       | Subscriber                                          |\n",
       "|  665458                                             | 2017-04-02 07:48:35                                 | 2017-04-02 08:19:03                                 | 1827.341                                            | Constitution Ave & 2nd St NW/DOL                    | M St & Pennsylvania Ave NW                          | Customer                                            |\n",
       "| 1481135                                             | 2017-06-10 08:36:28                                 | 2017-06-10 09:02:17                                 | 1549.427                                            | Henry Bacon Dr & Lincoln Memorial Circle NW         | Maine Ave & 7th St SW                               | Subscriber                                          |\n",
       "| 1148202                                             | 2017-05-14 07:18:18                                 | 2017-05-14 07:24:56                                 |  398.000                                            | 1st & K St SE                                       | Eastern Market Metro / Pennsylvania Ave & 7th St SE | Subscriber                                          |\n",
       "\n"
      ],
      "text/plain": [
       "  X       Start.Time          End.Time            Trip.Duration\n",
       "1 1621326 2017-06-21 08:36:34 2017-06-21 08:44:43  489.066     \n",
       "2  482740 2017-03-11 10:40:00 2017-03-11 10:46:00  402.549     \n",
       "3 1330037 2017-05-30 01:02:59 2017-05-30 01:13:37  637.251     \n",
       "4  665458 2017-04-02 07:48:35 2017-04-02 08:19:03 1827.341     \n",
       "5 1481135 2017-06-10 08:36:28 2017-06-10 09:02:17 1549.427     \n",
       "6 1148202 2017-05-14 07:18:18 2017-05-14 07:24:56  398.000     \n",
       "  Start.Station                              \n",
       "1 14th & Belmont St NW                       \n",
       "2 Yuma St & Tenley Circle NW                 \n",
       "3 17th St & Massachusetts Ave NW             \n",
       "4 Constitution Ave & 2nd St NW/DOL           \n",
       "5 Henry Bacon Dr & Lincoln Memorial Circle NW\n",
       "6 1st & K St SE                              \n",
       "  End.Station                                         User.Type \n",
       "1 15th & K St NW                                      Subscriber\n",
       "2 Connecticut Ave & Yuma St NW                        Subscriber\n",
       "3 5th & K St NW                                       Subscriber\n",
       "4 M St & Pennsylvania Ave NW                          Customer  \n",
       "5 Maine Ave & 7th St SW                               Subscriber\n",
       "6 Eastern Market Metro / Pennsylvania Ave & 7th St SE Subscriber"
      ]
     },
     "metadata": {},
     "output_type": "display_data"
    }
   ],
   "source": [
    "head(wash)"
   ]
  },
  {
   "cell_type": "code",
   "execution_count": 6,
   "id": "86508454-983b-4414-8ba8-07233cf7b51a",
   "metadata": {},
   "outputs": [
    {
     "data": {
      "text/html": [
       "<table>\n",
       "<thead><tr><th scope=col>X</th><th scope=col>Start.Time</th><th scope=col>End.Time</th><th scope=col>Trip.Duration</th><th scope=col>Start.Station</th><th scope=col>End.Station</th><th scope=col>User.Type</th><th scope=col>Gender</th><th scope=col>Birth.Year</th></tr></thead>\n",
       "<tbody>\n",
       "\t<tr><td>1423854                                                                  </td><td>2017-06-23 15:09:32                                                      </td><td>2017-06-23 15:14:53                                                      </td><td> 321                                                                     </td><td><span style=white-space:pre-wrap>Wood St &amp; Hubbard St         </span></td><td><span style=white-space:pre-wrap>Damen Ave &amp; Chicago Ave     </span> </td><td>Subscriber                                                               </td><td><span style=white-space:pre-wrap>Male  </span>                           </td><td>1992                                                                     </td></tr>\n",
       "\t<tr><td> 955915                                                              </td><td>2017-05-25 18:19:03                                                  </td><td>2017-05-25 18:45:53                                                  </td><td>1610                                                                 </td><td><span style=white-space:pre-wrap>Theater on the Lake          </span></td><td>Sheffield Ave &amp; Waveland Ave                                     </td><td>Subscriber                                                           </td><td>Female                                                               </td><td>1992                                                                 </td></tr>\n",
       "\t<tr><td><span style=white-space:pre-wrap>   9031</span>                          </td><td>2017-01-04 08:27:49                                                      </td><td>2017-01-04 08:34:45                                                      </td><td> 416                                                                     </td><td><span style=white-space:pre-wrap>May St &amp; Taylor St           </span></td><td><span style=white-space:pre-wrap>Wood St &amp; Taylor St         </span> </td><td>Subscriber                                                               </td><td><span style=white-space:pre-wrap>Male  </span>                           </td><td>1981                                                                     </td></tr>\n",
       "\t<tr><td> 304487                                       </td><td>2017-03-06 13:49:38                           </td><td>2017-03-06 13:55:28                           </td><td> 350                                          </td><td>Christiana Ave &amp; Lawrence Ave             </td><td>St. Louis Ave &amp; Balmoral Ave              </td><td>Subscriber                                    </td><td><span style=white-space:pre-wrap>Male  </span></td><td>1986                                          </td></tr>\n",
       "\t<tr><td><span style=white-space:pre-wrap>  45207</span>                          </td><td>2017-01-17 14:53:07                                                      </td><td>2017-01-17 15:02:01                                                      </td><td> 534                                                                     </td><td><span style=white-space:pre-wrap>Clark St &amp; Randolph St       </span></td><td>Desplaines St &amp; Jackson Blvd                                         </td><td>Subscriber                                                               </td><td><span style=white-space:pre-wrap>Male  </span>                           </td><td>1975                                                                     </td></tr>\n",
       "\t<tr><td>1473887                                                                 </td><td>2017-06-26 09:01:20                                                     </td><td>2017-06-26 09:11:06                                                     </td><td> 586                                                                    </td><td>Clinton St &amp; Washington Blvd                                        </td><td><span style=white-space:pre-wrap>Canal St &amp; Taylor St        </span></td><td>Subscriber                                                              </td><td><span style=white-space:pre-wrap>Male  </span>                          </td><td>1990                                                                    </td></tr>\n",
       "</tbody>\n",
       "</table>\n"
      ],
      "text/latex": [
       "\\begin{tabular}{r|lllllllll}\n",
       " X & Start.Time & End.Time & Trip.Duration & Start.Station & End.Station & User.Type & Gender & Birth.Year\\\\\n",
       "\\hline\n",
       "\t 1423854                         & 2017-06-23 15:09:32             & 2017-06-23 15:14:53             &  321                            & Wood St \\& Hubbard St          & Damen Ave \\& Chicago Ave       & Subscriber                      & Male                            & 1992                           \\\\\n",
       "\t  955915                        & 2017-05-25 18:19:03            & 2017-05-25 18:45:53            & 1610                           & Theater on the Lake            & Sheffield Ave \\& Waveland Ave & Subscriber                     & Female                         & 1992                          \\\\\n",
       "\t    9031                         & 2017-01-04 08:27:49             & 2017-01-04 08:34:45             &  416                            & May St \\& Taylor St            & Wood St \\& Taylor St           & Subscriber                      & Male                            & 1981                           \\\\\n",
       "\t  304487                         & 2017-03-06 13:49:38             & 2017-03-06 13:55:28             &  350                            & Christiana Ave \\& Lawrence Ave & St. Louis Ave \\& Balmoral Ave  & Subscriber                      & Male                            & 1986                           \\\\\n",
       "\t   45207                         & 2017-01-17 14:53:07             & 2017-01-17 15:02:01             &  534                            & Clark St \\& Randolph St        & Desplaines St \\& Jackson Blvd  & Subscriber                      & Male                            & 1975                           \\\\\n",
       "\t 1473887                         & 2017-06-26 09:01:20             & 2017-06-26 09:11:06             &  586                            & Clinton St \\& Washington Blvd  & Canal St \\& Taylor St          & Subscriber                      & Male                            & 1990                           \\\\\n",
       "\\end{tabular}\n"
      ],
      "text/markdown": [
       "\n",
       "| X | Start.Time | End.Time | Trip.Duration | Start.Station | End.Station | User.Type | Gender | Birth.Year |\n",
       "|---|---|---|---|---|---|---|---|---|\n",
       "| 1423854                       | 2017-06-23 15:09:32           | 2017-06-23 15:14:53           |  321                          | Wood St & Hubbard St          | Damen Ave & Chicago Ave       | Subscriber                    | Male                          | 1992                          |\n",
       "|  955915                       | 2017-05-25 18:19:03           | 2017-05-25 18:45:53           | 1610                          | Theater on the Lake           | Sheffield Ave & Waveland Ave  | Subscriber                    | Female                        | 1992                          |\n",
       "|    9031                       | 2017-01-04 08:27:49           | 2017-01-04 08:34:45           |  416                          | May St & Taylor St            | Wood St & Taylor St           | Subscriber                    | Male                          | 1981                          |\n",
       "|  304487                       | 2017-03-06 13:49:38           | 2017-03-06 13:55:28           |  350                          | Christiana Ave & Lawrence Ave | St. Louis Ave & Balmoral Ave  | Subscriber                    | Male                          | 1986                          |\n",
       "|   45207                       | 2017-01-17 14:53:07           | 2017-01-17 15:02:01           |  534                          | Clark St & Randolph St        | Desplaines St & Jackson Blvd  | Subscriber                    | Male                          | 1975                          |\n",
       "| 1473887                       | 2017-06-26 09:01:20           | 2017-06-26 09:11:06           |  586                          | Clinton St & Washington Blvd  | Canal St & Taylor St          | Subscriber                    | Male                          | 1990                          |\n",
       "\n"
      ],
      "text/plain": [
       "  X       Start.Time          End.Time            Trip.Duration\n",
       "1 1423854 2017-06-23 15:09:32 2017-06-23 15:14:53  321         \n",
       "2  955915 2017-05-25 18:19:03 2017-05-25 18:45:53 1610         \n",
       "3    9031 2017-01-04 08:27:49 2017-01-04 08:34:45  416         \n",
       "4  304487 2017-03-06 13:49:38 2017-03-06 13:55:28  350         \n",
       "5   45207 2017-01-17 14:53:07 2017-01-17 15:02:01  534         \n",
       "6 1473887 2017-06-26 09:01:20 2017-06-26 09:11:06  586         \n",
       "  Start.Station                 End.Station                  User.Type  Gender\n",
       "1 Wood St & Hubbard St          Damen Ave & Chicago Ave      Subscriber Male  \n",
       "2 Theater on the Lake           Sheffield Ave & Waveland Ave Subscriber Female\n",
       "3 May St & Taylor St            Wood St & Taylor St          Subscriber Male  \n",
       "4 Christiana Ave & Lawrence Ave St. Louis Ave & Balmoral Ave Subscriber Male  \n",
       "5 Clark St & Randolph St        Desplaines St & Jackson Blvd Subscriber Male  \n",
       "6 Clinton St & Washington Blvd  Canal St & Taylor St         Subscriber Male  \n",
       "  Birth.Year\n",
       "1 1992      \n",
       "2 1992      \n",
       "3 1981      \n",
       "4 1986      \n",
       "5 1975      \n",
       "6 1990      "
      ]
     },
     "metadata": {},
     "output_type": "display_data"
    }
   ],
   "source": [
    "head(chi)"
   ]
  },
  {
   "cell_type": "markdown",
   "id": "f571b5ea-94db-489f-a25a-9fa93c9cc60e",
   "metadata": {},
   "source": [
    "### Question 1\n",
    "Which stations are the most popular?"
   ]
  },
  {
   "cell_type": "markdown",
   "id": "6f3a92c0-f426-4513-ac95-09275d7545a1",
   "metadata": {},
   "source": [
    "New York City"
   ]
  },
  {
   "cell_type": "code",
   "execution_count": 7,
   "id": "22490598-e337-464e-b16d-8c6bc2949482",
   "metadata": {},
   "outputs": [
    {
     "name": "stdout",
     "output_type": "stream",
     "text": [
      "                  Station Count_starts Count_ends  Sum\n",
      "474 Pershing Square North         3069       3077 6146\n",
      "115    Broadway & E 22 St         2082       2343 4425\n",
      "233    E 17 St & Broadway         2089       2316 4405\n",
      "564       W 21 St & 6 Ave         2019       2036 4055\n",
      "632 West St & Chambers St         1968       1968 3936\n",
      "561      W 20 St & 11 Ave         1743       1932 3675\n",
      "66        8 Ave & W 31 St         1741       1828 3569\n",
      "67        8 Ave & W 33 St         1701       1734 3435\n",
      "579       W 38 St & 8 Ave         1497       1628 3125\n",
      "582       W 41 St & 8 Ave         1604       1506 3110\n"
     ]
    }
   ],
   "source": [
    "# Getting unique value counts of start and end stations\n",
    "ny_starts <- table(ny$Start.Station)\n",
    "ny_ends <- table(ny$End.Station)\n",
    "\n",
    "# Convert tables to data frames\n",
    "df_starts <- as.data.frame(ny_starts)\n",
    "df_ends <- as.data.frame(ny_ends)\n",
    "\n",
    "# Rename columns\n",
    "colnames(df_starts) <- c(\"Station\", \"Count_starts\")\n",
    "colnames(df_ends) <- c(\"Station\", \"Count_ends\")\n",
    "\n",
    "# Merge data frames\n",
    "combined_df <- merge(df_starts, df_ends, by = \"Station\", all = TRUE)\n",
    "\n",
    "# Replace NA values with 0\n",
    "combined_df[is.na(combined_df)] <- 0\n",
    "\n",
    "# Create a new column with the sum of counts\n",
    "combined_df$Sum <- combined_df$Count_starts + combined_df$Count_ends\n",
    "\n",
    "# Sort the data frame by the sum in descending order\n",
    "sorted_combined <- combined_df[order(combined_df$Sum, decreasing = TRUE),]\n",
    "\n",
    "# Select the top 10 stations\n",
    "top_10 <- head(sorted_combined, 10)\n",
    "\n",
    "# Display the top 10 stations\n",
    "print(top_10)"
   ]
  },
  {
   "cell_type": "code",
   "execution_count": 8,
   "id": "55fa880f-7904-4536-ad03-a37800497316",
   "metadata": {
    "scrolled": true
   },
   "outputs": [
    {
     "data": {
      "image/png": "[encoded data removed]",
      "text/plain": [
       "plot without title"
      ]
     },
     "metadata": {},
     "output_type": "display_data"
    }
   ],
   "source": [
    "# Reverse the order so it works on the plot\n",
    "top_10 <- top_10[order(top_10$Sum),]\n",
    "\n",
    "# Create a horizontal bar plot using ggplot2\n",
    "ggplot(top_10, aes(x = factor(Station, levels = top_10$Station), y = Sum, fill = \"blue\")) +\n",
    "  geom_bar(stat = \"identity\") +\n",
    "  labs(title = \"Top 10 Most Popular Stations\\n           in New York City\",\n",
    "       x = \"Station\",\n",
    "       y = \"Count\") +\n",
    "  theme_minimal() +\n",
    "  theme(legend.position = \"none\", plot.margin = margin(t = 20, r = 20, b = 20, l = 20)) +\n",
    "  scale_fill_manual(values = \"blue\") +\n",
    "  coord_flip()"
   ]
  },
  {
   "cell_type": "markdown",
   "id": "8655fc48-1571-4cea-a555-88027e52514f",
   "metadata": {},
   "source": [
    "Washington DC"
   ]
  },
  {
   "cell_type": "code",
   "execution_count": 9,
   "id": "a6c62e86-d27d-46ff-8470-cabe6f3c1758",
   "metadata": {
    "scrolled": true
   },
   "outputs": [
    {
     "name": "stdout",
     "output_type": "stream",
     "text": [
      "                                                  Station Count_starts\n",
      "209                       Columbus Circle / Union Station         5656\n",
      "281                             Jefferson Dr & 14th St SW         5022\n",
      "305                                      Lincoln Memorial         5043\n",
      "320                  Massachusetts Ave & Dupont Circle NW         3946\n",
      "50                                         15th & P St NW         3519\n",
      "282                                    Jefferson Memorial         3514\n",
      "422 Smithsonian-National Mall / Jefferson Dr & 12th St SW         3363\n",
      "277           Henry Bacon Dr & Lincoln Memorial Circle NW         3121\n",
      "141                                4th St & Madison Dr NW         3011\n",
      "37                                         14th & V St NW         2788\n",
      "    Count_ends   Sum\n",
      "209       6048 11704\n",
      "281       5218 10240\n",
      "305       5036 10079\n",
      "320       4483  8429\n",
      "50        3733  7252\n",
      "282       3637  7151\n",
      "422       3599  6962\n",
      "277       3101  6222\n",
      "141       2920  5931\n",
      "37        2958  5746\n"
     ]
    }
   ],
   "source": [
    "# Getting unique value counts of start and end stations\n",
    "wash_starts <- table(wash$Start.Station)\n",
    "wash_ends <- table(wash$End.Station)\n",
    "\n",
    "# Convert tables to data frames\n",
    "df_starts <- as.data.frame(wash_starts)\n",
    "df_ends <- as.data.frame(wash_ends)\n",
    "\n",
    "# Rename columns\n",
    "colnames(df_starts) <- c(\"Station\", \"Count_starts\")\n",
    "colnames(df_ends) <- c(\"Station\", \"Count_ends\")\n",
    "\n",
    "# Merge data frames\n",
    "combined_df <- merge(df_starts, df_ends, by = \"Station\", all = TRUE)\n",
    "\n",
    "# Replace NA values with 0\n",
    "combined_df[is.na(combined_df)] <- 0\n",
    "\n",
    "# Create a new column with the sum of counts\n",
    "combined_df$Sum <- combined_df$Count_starts + combined_df$Count_ends\n",
    "\n",
    "# Sort the data frame by the sum in descending order\n",
    "sorted_combined <- combined_df[order(combined_df$Sum, decreasing = TRUE),]\n",
    "\n",
    "# Select the top 10 stations\n",
    "top_10 <- head(sorted_combined, 10)\n",
    "\n",
    "# Display the top 10 stations\n",
    "print(top_10)"
   ]
  },
  {
   "cell_type": "code",
   "execution_count": 10,
   "id": "37b96a4c-f9fd-484d-a74a-57b3fbf17828",
   "metadata": {},
   "outputs": [
    {
     "data": {
      "image/png": "[encoded data removed]",
      "text/plain": [
       "plot without title"
      ]
     },
     "metadata": {},
     "output_type": "display_data"
    }
   ],
   "source": [
    "# Reverse the order so it works on the plot\n",
    "top_10 <- top_10[order(top_10$Sum),]\n",
    "\n",
    "# Create a horizontal bar plot using ggplot2\n",
    "ggplot(top_10, aes(x = factor(Station, levels = top_10$Station), y = Sum, fill = \"red\")) +\n",
    "  geom_bar(stat = \"identity\") +\n",
    "  labs(title = \"Top 10 Most Popular Stations\\n           in Washington DC\",\n",
    "       x = \"Station\",\n",
    "       y = \"Count\") +\n",
    "  theme_minimal() +\n",
    "  theme(legend.position = \"none\", plot.margin = margin(t = 20, r = 20, b = 20, l = 20)) +\n",
    "  scale_fill_manual(values = \"red\") +\n",
    "  coord_flip()"
   ]
  },
  {
   "cell_type": "markdown",
   "id": "47f12c6d-6ddf-4c96-b248-dc5dba7675fe",
   "metadata": {},
   "source": [
    "Chicago"
   ]
  },
  {
   "cell_type": "code",
   "execution_count": 11,
   "id": "443c56da-68b0-4e7d-a594-53387a3fd7bf",
   "metadata": {},
   "outputs": [
    {
     "name": "stdout",
     "output_type": "stream",
     "text": [
      "                         Station Count_starts Count_ends   Sum\n",
      "503      Streeter Dr & Grand Ave         6911       7512 14423\n",
      "136 Clinton St & Washington Blvd         4306       4166  8472\n",
      "293    Lake Shore Dr & Monroe St         4289       4016  8305\n",
      "132      Clinton St & Madison St         3744       4014  7758\n",
      "294   Lake Shore Dr & North Blvd         3348       3863  7211\n",
      "505          Theater on the Lake         3317       3559  6876\n",
      "76           Canal St & Adams St         3443       3367  6810\n",
      "354        Michigan Ave & Oak St         2869       3054  5923\n",
      "356 Michigan Ave & Washington St         2778       3023  5801\n",
      "360              Millennium Park         2728       3036  5764\n"
     ]
    }
   ],
   "source": [
    "# Getting unique value counts of start and end stations\n",
    "chi_starts <- table(chi$Start.Station)\n",
    "chi_ends <- table(chi$End.Station)\n",
    "\n",
    "# Convert tables to data frames\n",
    "df_starts <- as.data.frame(chi_starts)\n",
    "df_ends <- as.data.frame(chi_ends)\n",
    "\n",
    "# Rename columns\n",
    "colnames(df_starts) <- c(\"Station\", \"Count_starts\")\n",
    "colnames(df_ends) <- c(\"Station\", \"Count_ends\")\n",
    "\n",
    "# Merge data frames\n",
    "combined_df <- merge(df_starts, df_ends, by = \"Station\", all = TRUE)\n",
    "\n",
    "# Replace NA values with 0\n",
    "combined_df[is.na(combined_df)] <- 0\n",
    "\n",
    "# Create a new column with the sum of counts\n",
    "combined_df$Sum <- combined_df$Count_starts + combined_df$Count_ends\n",
    "\n",
    "# Sort the data frame by the sum in descending order\n",
    "sorted_combined <- combined_df[order(combined_df$Sum, decreasing = TRUE),]\n",
    "\n",
    "# Select the top 10 stations\n",
    "top_10 <- head(sorted_combined, 10)\n",
    "\n",
    "# Display the top 10 stations\n",
    "print(top_10)"
   ]
  },
  {
   "cell_type": "code",
   "execution_count": 12,
   "id": "e1a56453-dc70-4dae-9197-055635ec1e67",
   "metadata": {},
   "outputs": [
    {
     "data": {
      "image/png": "[encoded data removed]",
      "text/plain": [
       "plot without title"
      ]
     },
     "metadata": {},
     "output_type": "display_data"
    }
   ],
   "source": [
    "# Reverse the order so it works on the plot\n",
    "top_10 <- top_10[order(top_10$Sum),]\n",
    "\n",
    "# Create a horizontal bar plot using ggplot2\n",
    "ggplot(top_10, aes(x = factor(Station, levels = top_10$Station), y = Sum, fill = \"darkgreen\")) +\n",
    "  geom_bar(stat = \"identity\") +\n",
    "  labs(title = \"Top 10 Most Popular Stations\\n                in Chicago\",\n",
    "       x = \"Station\",\n",
    "       y = \"Count\") +\n",
    "  theme_minimal() +\n",
    "  theme(legend.position = \"none\", plot.margin = margin(t = 20, r = 20, b = 20, l = 20)) +\n",
    "  scale_fill_manual(values = \"darkgreen\") +\n",
    "  coord_flip()"
   ]
  },
  {
   "cell_type": "markdown",
   "id": "793ec916-0383-45cf-be58-031f213bc76a",
   "metadata": {},
   "source": [
    "The most popular station in New York City is \"Pershing Square North\" with 6146 visits. This is next to Grand Central Station.\n",
    "    \n",
    "The most popular station in Washington DC is \"Columbus Circle / Union Station\" with 5656 visits. This is next to a train station North of the US Capitol building.\n",
    "    \n",
    "The most popular station in Chicago is \"Streeter Dr & Grand Ave\" with 14423 visits. This is right next to Navy Pier."
   ]
  },
  {
   "cell_type": "markdown",
   "id": "03ce4c38-2fea-4131-829d-460c493737e5",
   "metadata": {},
   "source": [
    "### Question 2\n",
    "What is the gender breakdown of users per city?"
   ]
  },
  {
   "cell_type": "markdown",
   "id": "a19f9311-7182-4c0a-845a-b0be7f66f55c",
   "metadata": {},
   "source": [
    "New York City"
   ]
  },
  {
   "cell_type": "code",
   "execution_count": 13,
   "id": "3ef14ef1-76c9-4536-990d-73673c9b1f09",
   "metadata": {},
   "outputs": [
    {
     "data": {
      "text/plain": [
       "\n",
       "       Female   Male \n",
       " 29209  66783 204008 "
      ]
     },
     "metadata": {},
     "output_type": "display_data"
    }
   ],
   "source": [
    "ny_gender <- table(ny$Gender)\n",
    "ny_gender\n",
    "dimnames(ny_gender) <- list(Gender = c(\"No Answer\",\"Female\", \"Male\"))\n",
    "\n",
    "# Convert table to numeric vector\n",
    "ny_gender_vector <- as.numeric(ny_gender)\n",
    "\n",
    "# Calculating the percentage of each gender\n",
    "percentages <- prop.table(ny_gender_vector)"
   ]
  },
  {
   "cell_type": "code",
   "execution_count": 14,
   "id": "87cc7fdd-85d3-49ae-bcfe-6ed90a849aa8",
   "metadata": {
    "scrolled": true
   },
   "outputs": [
    {
     "data": {
      "image/png": "[encoded data removed]",
      "text/plain": [
       "Plot with title \"New York City Users Gender Distribution\""
      ]
     },
     "metadata": {},
     "output_type": "display_data"
    }
   ],
   "source": [
    "# Create a pie chart with percentages\n",
    "custom_colors <- c(\"white\", \"pink\", \"lightblue\")\n",
    "pie(percentages, labels = paste(names(ny_gender), scales::percent(percentages)), col = custom_colors, main = \"New York City Users Gender Distribution\")"
   ]
  },
  {
   "cell_type": "markdown",
   "id": "627aada1-227a-436e-a06d-b73632bc3671",
   "metadata": {},
   "source": [
    "Washington DC doesn't have gender in their dataset"
   ]
  },
  {
   "cell_type": "markdown",
   "id": "7c86bb04-7444-4bbe-8bd9-5ac406827cba",
   "metadata": {},
   "source": [
    "Chicago"
   ]
  },
  {
   "cell_type": "code",
   "execution_count": 15,
   "id": "f5a8471e-10ef-4a6f-b3f1-18579c46de10",
   "metadata": {},
   "outputs": [
    {
     "data": {
      "text/plain": [
       "\n",
       "       Female   Male \n",
       " 61052  57758 181190 "
      ]
     },
     "metadata": {},
     "output_type": "display_data"
    }
   ],
   "source": [
    "chi_gender <- table(chi$Gender)\n",
    "chi_gender\n",
    "dimnames(chi_gender) <- list(Gender = c(\"No Answer\",\"Female\", \"Male\"))\n",
    "\n",
    "# Convert table to numeric vector\n",
    "chi_gender_vector <- as.numeric(chi_gender)\n",
    "\n",
    "# Calculating the percentage of each gender\n",
    "percentages <- prop.table(chi_gender_vector)"
   ]
  },
  {
   "cell_type": "code",
   "execution_count": 16,
   "id": "a53f9b33-0b99-423d-a0ab-4cb9baecc582",
   "metadata": {},
   "outputs": [
    {
     "data": {
      "image/png": "[encoded data removed]",
      "text/plain": [
       "Plot with title \"Chicago Users Gender Distribution\""
      ]
     },
     "metadata": {},
     "output_type": "display_data"
    }
   ],
   "source": [
    "# Create a pie chart with percentages\n",
    "custom_colors <- c(\"white\", \"pink\", \"lightblue\")\n",
    "pie(percentages, labels = paste(names(chi_gender), scales::percent(percentages)), col = custom_colors, main = \"Chicago Users Gender Distribution\")"
   ]
  },
  {
   "cell_type": "markdown",
   "id": "96737e76-cab6-4bf1-8f61-abc2d9a148a6",
   "metadata": {},
   "source": [
    "The gender breakdown of users in New York City is 68% Male, 22.3% Female and 9.7% who didn't answer\n",
    "\n",
    "The Washington DC dataset doesn't include gender.\n",
    "\n",
    "The gender breakdown of users in Chicago is 60.4% Male, 19.3% Female and 20.4% who didn't answer"
   ]
  },
  {
   "cell_type": "markdown",
   "id": "4d2eb95f-fd1c-445d-9262-02c3bc491834",
   "metadata": {},
   "source": [
    "### Question 3\n",
    "What is the averege trip duration by birth year?"
   ]
  },
  {
   "cell_type": "markdown",
   "id": "136d1698-9220-474b-beb4-144884447a21",
   "metadata": {},
   "source": [
    "New York City"
   ]
  },
  {
   "cell_type": "code",
   "execution_count": 17,
   "id": "ee53c99b-e79c-4be9-b1f8-22e1e4ba3800",
   "metadata": {
    "scrolled": true
   },
   "outputs": [
    {
     "data": {
      "text/html": [
       "<table>\n",
       "<thead><tr><th scope=col>Birth_Year</th><th scope=col>Average_Trip_Duration</th></tr></thead>\n",
       "<tbody>\n",
       "\t<tr><td>1885     </td><td> 744.8462</td></tr>\n",
       "\t<tr><td>1886     </td><td>1243.5000</td></tr>\n",
       "\t<tr><td>1888     </td><td> 502.0000</td></tr>\n",
       "\t<tr><td>1893     </td><td> 572.8750</td></tr>\n",
       "\t<tr><td>1895     </td><td>1203.0000</td></tr>\n",
       "\t<tr><td>1899     </td><td>1083.5385</td></tr>\n",
       "</tbody>\n",
       "</table>\n"
      ],
      "text/latex": [
       "\\begin{tabular}{r|ll}\n",
       " Birth\\_Year & Average\\_Trip\\_Duration\\\\\n",
       "\\hline\n",
       "\t 1885      &  744.8462\\\\\n",
       "\t 1886      & 1243.5000\\\\\n",
       "\t 1888      &  502.0000\\\\\n",
       "\t 1893      &  572.8750\\\\\n",
       "\t 1895      & 1203.0000\\\\\n",
       "\t 1899      & 1083.5385\\\\\n",
       "\\end{tabular}\n"
      ],
      "text/markdown": [
       "\n",
       "| Birth_Year | Average_Trip_Duration |\n",
       "|---|---|\n",
       "| 1885      |  744.8462 |\n",
       "| 1886      | 1243.5000 |\n",
       "| 1888      |  502.0000 |\n",
       "| 1893      |  572.8750 |\n",
       "| 1895      | 1203.0000 |\n",
       "| 1899      | 1083.5385 |\n",
       "\n"
      ],
      "text/plain": [
       "  Birth_Year Average_Trip_Duration\n",
       "1 1885        744.8462            \n",
       "2 1886       1243.5000            \n",
       "3 1888        502.0000            \n",
       "4 1893        572.8750            \n",
       "5 1895       1203.0000            \n",
       "6 1899       1083.5385            "
      ]
     },
     "metadata": {},
     "output_type": "display_data"
    },
    {
     "data": {
      "text/html": [
       "1885"
      ],
      "text/latex": [
       "1885"
      ],
      "text/markdown": [
       "1885"
      ],
      "text/plain": [
       "[1] 1885"
      ]
     },
     "metadata": {},
     "output_type": "display_data"
    },
    {
     "data": {
      "text/html": [
       "2001"
      ],
      "text/latex": [
       "2001"
      ],
      "text/markdown": [
       "2001"
      ],
      "text/plain": [
       "[1] 2001"
      ]
     },
     "metadata": {},
     "output_type": "display_data"
    }
   ],
   "source": [
    "# Group by birth year and calculate the average of trip duration\n",
    "avg_tripd_by_birth_year <- aggregate(ny$Trip.Duration ~ ny$Birth.Year, ny = df, FUN = mean)\n",
    "\n",
    "# Change column names\n",
    "colnames(avg_tripd_by_birth_year) <- c(\"Birth_Year\", \"Average_Trip_Duration\")\n",
    "\n",
    "head(avg_tripd_by_birth_year)\n",
    "\n",
    "# Checking min and max birth years\n",
    "min(ny$Birth.Year, na.rm = TRUE)\n",
    "max(ny$Birth.Year, na.rm = TRUE)"
   ]
  },
  {
   "cell_type": "code",
   "execution_count": 18,
   "id": "1ba20889-6c01-494a-86c3-e5dea4f200dc",
   "metadata": {},
   "outputs": [
    {
     "data": {
      "image/png": "[encoded data removed]",
      "text/plain": [
       "plot without title"
      ]
     },
     "metadata": {},
     "output_type": "display_data"
    }
   ],
   "source": [
    "# Create a scatter plot\n",
    "ggplot(avg_tripd_by_birth_year, aes(x = Birth_Year, y = Average_Trip_Duration)) +\n",
    "  geom_point() +\n",
    "  labs(title = \"Birth Year vs. Average Trip Duration in New York City\",\n",
    "       x = \"Birth Year\",\n",
    "       y = \"Average Trip Duration\")"
   ]
  },
  {
   "cell_type": "markdown",
   "id": "9e4063e9-9f4f-43cf-9daf-69f8c805d846",
   "metadata": {},
   "source": [
    "Washington DC doesn't have birth year in their dataset"
   ]
  },
  {
   "cell_type": "markdown",
   "id": "837d7e05-f6e3-46d7-a01d-551d4effe0de",
   "metadata": {},
   "source": [
    "Chicago"
   ]
  },
  {
   "cell_type": "code",
   "execution_count": 19,
   "id": "ab039698-36cf-4095-9d09-6664bafc1c82",
   "metadata": {
    "scrolled": true
   },
   "outputs": [
    {
     "data": {
      "text/html": [
       "<table>\n",
       "<thead><tr><th scope=col>Birth_Year</th><th scope=col>Average_Trip_Duration</th></tr></thead>\n",
       "<tbody>\n",
       "\t<tr><td>1899     </td><td> 513.7143</td></tr>\n",
       "\t<tr><td>1900     </td><td>1189.8824</td></tr>\n",
       "\t<tr><td>1901     </td><td> 572.1111</td></tr>\n",
       "\t<tr><td>1906     </td><td>1063.7143</td></tr>\n",
       "\t<tr><td>1909     </td><td>1251.5000</td></tr>\n",
       "\t<tr><td>1916     </td><td> 378.8000</td></tr>\n",
       "</tbody>\n",
       "</table>\n"
      ],
      "text/latex": [
       "\\begin{tabular}{r|ll}\n",
       " Birth\\_Year & Average\\_Trip\\_Duration\\\\\n",
       "\\hline\n",
       "\t 1899      &  513.7143\\\\\n",
       "\t 1900      & 1189.8824\\\\\n",
       "\t 1901      &  572.1111\\\\\n",
       "\t 1906      & 1063.7143\\\\\n",
       "\t 1909      & 1251.5000\\\\\n",
       "\t 1916      &  378.8000\\\\\n",
       "\\end{tabular}\n"
      ],
      "text/markdown": [
       "\n",
       "| Birth_Year | Average_Trip_Duration |\n",
       "|---|---|\n",
       "| 1899      |  513.7143 |\n",
       "| 1900      | 1189.8824 |\n",
       "| 1901      |  572.1111 |\n",
       "| 1906      | 1063.7143 |\n",
       "| 1909      | 1251.5000 |\n",
       "| 1916      |  378.8000 |\n",
       "\n"
      ],
      "text/plain": [
       "  Birth_Year Average_Trip_Duration\n",
       "1 1899        513.7143            \n",
       "2 1900       1189.8824            \n",
       "3 1901        572.1111            \n",
       "4 1906       1063.7143            \n",
       "5 1909       1251.5000            \n",
       "6 1916        378.8000            "
      ]
     },
     "metadata": {},
     "output_type": "display_data"
    },
    {
     "data": {
      "text/html": [
       "1899"
      ],
      "text/latex": [
       "1899"
      ],
      "text/markdown": [
       "1899"
      ],
      "text/plain": [
       "[1] 1899"
      ]
     },
     "metadata": {},
     "output_type": "display_data"
    },
    {
     "data": {
      "text/html": [
       "2016"
      ],
      "text/latex": [
       "2016"
      ],
      "text/markdown": [
       "2016"
      ],
      "text/plain": [
       "[1] 2016"
      ]
     },
     "metadata": {},
     "output_type": "display_data"
    }
   ],
   "source": [
    "# Group by birth year and calculate the average of trip duration\n",
    "avg_tripd_by_birth_year <- aggregate(chi$Trip.Duration ~ chi$Birth.Year, chi = df, FUN = mean)\n",
    "\n",
    "# Change column names\n",
    "colnames(avg_tripd_by_birth_year) <- c(\"Birth_Year\", \"Average_Trip_Duration\")\n",
    "\n",
    "head(avg_tripd_by_birth_year)\n",
    "\n",
    "# Checking min and max birth years\n",
    "min(chi$Birth.Year, na.rm = TRUE)\n",
    "max(chi$Birth.Year, na.rm = TRUE)"
   ]
  },
  {
   "cell_type": "code",
   "execution_count": 20,
   "id": "2284775e-50bc-484a-b2ef-6f17ba5a21e8",
   "metadata": {},
   "outputs": [
    {
     "data": {
      "image/png": "[encoded data removed]",
      "text/plain": [
       "plot without title"
      ]
     },
     "metadata": {},
     "output_type": "display_data"
    }
   ],
   "source": [
    "# Create a scatter plot\n",
    "ggplot(avg_tripd_by_birth_year, aes(x = Birth_Year, y = Average_Trip_Duration)) +\n",
    "  geom_point() +\n",
    "  labs(title = \"Birth Year vs. Average Trip Duration in Chicago\",\n",
    "       x = \"Birth Year\",\n",
    "       y = \"Average Trip Duration\")"
   ]
  },
  {
   "cell_type": "markdown",
   "id": "6e9439a1-a62d-45a7-aa19-2edae117ed48",
   "metadata": {},
   "source": [
    "It seems like in both the New York City and Chicago datasets, there isn't much correlation between the age and trip duration. I believe there are probably some people who are lieing about their age since there are people who were born before 1900. The data is from 2017, I don't think there are many 117+ years old people riding bikes. It looks like a lot of people have a trip duration of about 10 minutes."
   ]
  },
  {
   "cell_type": "code",
   "execution_count": 21,
   "id": "9838a46d-4f93-4daa-832e-fdae5b7d8580",
   "metadata": {},
   "outputs": [
    {
     "data": {
      "text/html": [
       "65535"
      ],
      "text/latex": [
       "65535"
      ],
      "text/markdown": [
       "65535"
      ],
      "text/plain": [
       "[1] 65535"
      ]
     },
     "metadata": {},
     "output_type": "display_data"
    }
   ],
   "source": [
    "system('python -m nbconvert Explore_bikeshare_data.ipynb')"
   ]
  }
 ],
 "metadata": {
  "kernelspec": {
   "display_name": "R",
   "language": "R",
   "name": "ir"
  },
  "language_info": {
   "codemirror_mode": "r",
   "file_extension": ".r",
   "mimetype": "text/x-r-source",
   "name": "R",
   "pygments_lexer": "r",
   "version": "3.6.1"
  }
 },
 "nbformat": 4,
 "nbformat_minor": 5
}
