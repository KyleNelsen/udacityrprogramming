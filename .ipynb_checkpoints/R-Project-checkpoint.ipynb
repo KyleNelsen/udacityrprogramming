{
 "cells": [
  {
   "cell_type": "code",
   "execution_count": 1,
   "id": "7ffd6449-9c41-4201-bf95-b6096c452afc",
   "metadata": {},
   "outputs": [
    {
     "ename": "ERROR",
     "evalue": "Error in library(ggplot2): there is no package called 'ggplot2'\n",
     "output_type": "error",
     "traceback": [
      "Error in library(ggplot2): there is no package called 'ggplot2'\nTraceback:\n",
      "1. library(ggplot2)"
     ]
    }
   ],
   "source": [
    "# Importing packages\n",
    "library(ggplot2) # visualizations\n",
    "library(lubridate) # work with dates and times\n",
    "library(dplyr) # data manipulation"
   ]
  },
  {
   "cell_type": "code",
   "execution_count": null,
   "id": "42712585-520c-4204-87a6-b52bfb1aa8ec",
   "metadata": {},
   "outputs": [],
   "source": []
  }
 ],
 "metadata": {
  "kernelspec": {
   "display_name": "R",
   "language": "R",
   "name": "ir"
  },
  "language_info": {
   "codemirror_mode": "r",
   "file_extension": ".r",
   "mimetype": "text/x-r-source",
   "name": "R",
   "pygments_lexer": "r",
   "version": "3.6.1"
  }
 },
 "nbformat": 4,
 "nbformat_minor": 5
}
